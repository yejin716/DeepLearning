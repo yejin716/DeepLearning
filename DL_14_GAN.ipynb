{
  "nbformat": 4,
  "nbformat_minor": 0,
  "metadata": {
    "colab": {
      "provenance": [],
      "gpuType": "T4"
    },
    "kernelspec": {
      "name": "python3",
      "display_name": "Python 3"
    },
    "language_info": {
      "name": "python"
    },
    "accelerator": "GPU"
  },
  "cells": [
    {
      "cell_type": "markdown",
      "source": [
        "적대적 신경망(GAN)"
      ],
      "metadata": {
        "id": "hDW11x9oJ_gp"
      }
    },
    {
      "cell_type": "code",
      "execution_count": 1,
      "metadata": {
        "id": "XXq5PAYOJyWt"
      },
      "outputs": [],
      "source": [
        "from tensorflow.keras.datasets import mnist\n",
        "from tensorflow.keras.layers import Input, Dense, Reshape, Flatten, Dropout\n",
        "from tensorflow.keras.layers import BatchNormalization, Activation, LeakyReLU, UpSampling2D, Conv2D\n",
        "from tensorflow.keras.models import Sequential, Model\n",
        "import numpy as np\n",
        "import pandas as pd\n",
        "import matplotlib.pyplot as plt"
      ]
    },
    {
      "cell_type": "markdown",
      "source": [
        "생성자(Generator)"
      ],
      "metadata": {
        "id": "YZTJciciKQCb"
      }
    },
    {
      "cell_type": "code",
      "source": [
        "generator = Sequential()\n",
        "generator.add(Dense(128*7*7, input_dim=100, activation=LeakyReLU(0.2)))\n",
        "#128 : 임의의 노드 수 (설정 값)/ 7*7 (이미지 최초크기) >> 14*14 >> 28*28 upsampling\n",
        "generator.add(BatchNormalization())\n",
        "#배치정규화 : input data를 평균0 분산1이 되게 재배치\n",
        "generator.add(Reshape((7,7,128)))\n",
        "generator.add(UpSampling2D()) # 14*14로 변환\n",
        "generator.add(Conv2D(64, kernel_size=5, padding='same'))\n",
        "# kernel_size = 5 (5,5)padding='same' : zero padding\n",
        "generator.add(BatchNormalization())\n",
        "generator.add(Activation(LeakyReLU(0.2)))\n",
        "generator.add(UpSampling2D()) # 28*28로 변환\n",
        "generator.add(Conv2D(1, kernel_size=5, padding='same', activation='tanh')) #tanh -1 ~ 1 사이로 출력\n"
      ],
      "metadata": {
        "id": "WAsyG4hbKH5g"
      },
      "execution_count": 2,
      "outputs": []
    },
    {
      "cell_type": "markdown",
      "source": [
        "판별자(discriminator)"
      ],
      "metadata": {
        "id": "YZJ9FnnpMkIQ"
      }
    },
    {
      "cell_type": "code",
      "source": [
        "#feature extraction(특징 추출)\n",
        "\n",
        "discriminator = Sequential()\n",
        "discriminator.add(Conv2D(64, kernel_size=5, strides=2, input_shape=(28,28,1), padding='same'))\n",
        "#strides=2 >> pooling 과정 대체 효과\n",
        "discriminator.add(Activation(LeakyReLU(0.2)))\n",
        "discriminator.add(Dropout(0.3))\n",
        "\n",
        "discriminator.add(Conv2D(128, kernel_size=5, strides=2, padding='same'))\n",
        "discriminator.add(Activation(LeakyReLU(0.2)))\n",
        "discriminator.add(Dropout(0.3))\n",
        "\n",
        "discriminator.add(Flatten()) # 2차원 >> 1차원\n",
        "discriminator.add(Dense(1, activation='sigmoid'))"
      ],
      "metadata": {
        "id": "P_jt_JEcMikq"
      },
      "execution_count": 3,
      "outputs": []
    },
    {
      "cell_type": "code",
      "source": [
        "discriminator.compile(loss='binary_crossentropy', optimizer='adam')\n",
        "discriminator.trainable = False\n",
        "#판별자 자신이 학습이 되지 않게 학습 기능을 꺼줌 (***)"
      ],
      "metadata": {
        "id": "ChQJhKxmNti5"
      },
      "execution_count": 6,
      "outputs": []
    },
    {
      "cell_type": "markdown",
      "source": [
        "## GAN NETWORK (생성자와 판별자 모델 연결)"
      ],
      "metadata": {
        "id": "_i8JQRO2QtLi"
      }
    },
    {
      "cell_type": "code",
      "source": [
        "ginput = Input(shape = (100,))\n",
        "#무작위로 100개 벡터값 집어 넣음\n",
        "\n",
        "# D() : 판별자 G() : 생성자\n",
        "dis_output = discriminator(generator(ginput))\n",
        "#생성된 28*28 이미지 >> 판별자의 입력값을 들어감\n",
        "\n",
        "gan = Model(ginput, dis_output)\n",
        "gan.compile(loss='binary_crossentropy', optimizer='adam') # 참/ 거짓 분류\n",
        "gan.summary()\n"
      ],
      "metadata": {
        "colab": {
          "base_uri": "https://localhost:8080/"
        },
        "id": "Mgqa0S6aNw20",
        "outputId": "e1338260-099c-4872-a5db-5ee75b1d73d3"
      },
      "execution_count": 8,
      "outputs": [
        {
          "output_type": "stream",
          "name": "stdout",
          "text": [
            "Model: \"model_1\"\n",
            "_________________________________________________________________\n",
            " Layer (type)                Output Shape              Param #   \n",
            "=================================================================\n",
            " input_2 (InputLayer)        [(None, 100)]             0         \n",
            "                                                                 \n",
            " sequential (Sequential)     (None, 28, 28, 1)         865281    \n",
            "                                                                 \n",
            " sequential_1 (Sequential)   (None, 1)                 212865    \n",
            "                                                                 \n",
            "=================================================================\n",
            "Total params: 1078146 (4.11 MB)\n",
            "Trainable params: 852609 (3.25 MB)\n",
            "Non-trainable params: 225537 (881.00 KB)\n",
            "_________________________________________________________________\n"
          ]
        }
      ]
    },
    {
      "cell_type": "code",
      "source": [],
      "metadata": {
        "id": "1kZEWaPHRfhF"
      },
      "execution_count": null,
      "outputs": []
    }
  ]
}