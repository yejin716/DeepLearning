{
  "nbformat": 4,
  "nbformat_minor": 0,
  "metadata": {
    "colab": {
      "provenance": [],
      "gpuType": "T4"
    },
    "kernelspec": {
      "name": "python3",
      "display_name": "Python 3"
    },
    "language_info": {
      "name": "python"
    },
    "accelerator": "GPU"
  },
  "cells": [
    {
      "cell_type": "code",
      "execution_count": 1,
      "metadata": {
        "colab": {
          "base_uri": "https://localhost:8080/",
          "height": 35
        },
        "id": "DMuRIORzpKWF",
        "outputId": "7a43d34d-f412-4373-eaed-c6e36e5bd01b"
      },
      "outputs": [
        {
          "output_type": "execute_result",
          "data": {
            "text/plain": [
              "'2.15.0'"
            ],
            "application/vnd.google.colaboratory.intrinsic+json": {
              "type": "string"
            }
          },
          "metadata": {},
          "execution_count": 1
        }
      ],
      "source": [
        "import tensorflow as tf\n",
        "\n",
        "tf.__version__"
      ]
    },
    {
      "cell_type": "code",
      "source": [
        "# 회귀분석의 기초_가장 훌륭한 예측선 그리기\n",
        "\n",
        "# 최소제곱\n",
        "\n",
        "import numpy as np\n",
        "import pandas as pd\n",
        "\n",
        "# 공부한 시간과 점수 각각 x, y 변수에 넣기\n",
        "\n",
        "x = np.array([2,4,6,8]) #공부한 시간\n",
        "y = np.array([81,93,91,97]) #시험 점수\n",
        "\n"
      ],
      "metadata": {
        "id": "A-Nfiy3fqKFH"
      },
      "execution_count": 2,
      "outputs": []
    },
    {
      "cell_type": "code",
      "source": [
        "# x, y의 평균값 구하기\n",
        "\n",
        "mx = np.mean(x)\n",
        "my = np.mean(y)\n",
        "\n",
        "print('x 평균값 : ', mx)\n",
        "print('y 평균값 : ', my)"
      ],
      "metadata": {
        "colab": {
          "base_uri": "https://localhost:8080/"
        },
        "id": "kWNHl_NPqrPX",
        "outputId": "8170783c-17fa-4929-afc6-80b71dcf7a4e"
      },
      "execution_count": 7,
      "outputs": [
        {
          "output_type": "stream",
          "name": "stdout",
          "text": [
            "x 평균값 :  5.0\n",
            "y 평균값 :  90.5\n"
          ]
        }
      ]
    },
    {
      "cell_type": "code",
      "source": [
        "[(i-mx)**2 for i in x]"
      ],
      "metadata": {
        "colab": {
          "base_uri": "https://localhost:8080/"
        },
        "id": "6y-rEZsIruPU",
        "outputId": "f7dd4eeb-4913-49f0-fb67-c9703e1fd3fc"
      },
      "execution_count": 8,
      "outputs": [
        {
          "output_type": "execute_result",
          "data": {
            "text/plain": [
              "[9.0, 1.0, 1.0, 9.0]"
            ]
          },
          "metadata": {},
          "execution_count": 8
        }
      ]
    },
    {
      "cell_type": "code",
      "source": [
        "# 기울기 공식 : y = wx + b\n",
        "# w(weight) : 가중치 / b(bias) 편차\n",
        "\n",
        "# 최소제곱법\n",
        "\n",
        "# 최소제곱법 분모 만들기\n",
        "divisor = sum([(i-mx)**2 for i in x])\n",
        "\n",
        "def top(x, mx, y, my):\n",
        "    d = 0\n",
        "    for i in range(len(x)): # len(x) : 4\n",
        "        d += (x[i] - mx) * (y[i] - my)\n",
        "    return d\n",
        "\n",
        "divided = top(x, mx, y, my)\n",
        "\n",
        "print('분모: ', divisor)\n",
        "print('분자: ', divided)\n",
        "\n",
        "divided"
      ],
      "metadata": {
        "colab": {
          "base_uri": "https://localhost:8080/"
        },
        "id": "cKrji6hfqu4t",
        "outputId": "ca44c24d-ba91-405f-9017-b0f3075a2421"
      },
      "execution_count": 13,
      "outputs": [
        {
          "output_type": "stream",
          "name": "stdout",
          "text": [
            "분모:  20.0\n",
            "분자:  46.0\n"
          ]
        },
        {
          "output_type": "execute_result",
          "data": {
            "text/plain": [
              "46.0"
            ]
          },
          "metadata": {},
          "execution_count": 13
        }
      ]
    },
    {
      "cell_type": "code",
      "source": [
        "#평균 제곱 오차 구하기\n",
        "\n",
        "w = divided / divisor #분자 / 분모\n",
        "\n",
        "# 절편 b\n",
        "b = my - (mx * w)\n",
        "\n",
        "print('기울기 w : ', w)\n",
        "print('y절편 b : ', b)\n",
        "print('가장 훌륭한 예측선을 %.1fx + %d이다' % (w, b))"
      ],
      "metadata": {
        "colab": {
          "base_uri": "https://localhost:8080/"
        },
        "id": "TzB0HJAgtrjn",
        "outputId": "f6267cae-bedb-4b2f-afc7-52a29a3ee77a"
      },
      "execution_count": 17,
      "outputs": [
        {
          "output_type": "stream",
          "name": "stdout",
          "text": [
            "기울기 w :  2.3\n",
            "y절편 b :  79.0\n",
            "가장 훌륭한 예측선을 2.3x + 79이다\n"
          ]
        }
      ]
    },
    {
      "cell_type": "code",
      "source": [
        "#평균제곱오차\n",
        "\n",
        "#임의의 가상의 기울기 값 w, 절편 b 입력\n",
        "\n",
        "w = 3\n",
        "b = 76\n",
        "\n",
        "x = np.array([2,4,6,8]) #공부한 시간\n",
        "y = np.array([81,93,91,97]) #시험 점수"
      ],
      "metadata": {
        "id": "fkuRjbd_uV01"
      },
      "execution_count": 18,
      "outputs": []
    },
    {
      "cell_type": "code",
      "source": [
        "#예측 함수 (pred= wx+b)\n",
        "\n",
        "def pred(x):\n",
        "    return w * x + b\n",
        "\n",
        "#예측값이 들어갈 빈 리스트 생성\n",
        "result = []\n",
        "\n",
        "for i in range(len(x)):\n",
        "    result.append(pred(x[i]))\n",
        "    print(\"공부한 시간: %.2f, 실제 점수 : %.2f, 예측점수 : %.2f\" %(x[i], y[i], pred(x[i])))"
      ],
      "metadata": {
        "colab": {
          "base_uri": "https://localhost:8080/"
        },
        "id": "UzqcN3ayuVw3",
        "outputId": "44c10457-8a13-49d9-9815-7660540d531a"
      },
      "execution_count": 19,
      "outputs": [
        {
          "output_type": "stream",
          "name": "stdout",
          "text": [
            "공부한 시간: 2.00, 실제 점수 : 81.00, 예측점수 : 82.00\n",
            "공부한 시간: 4.00, 실제 점수 : 93.00, 예측점수 : 88.00\n",
            "공부한 시간: 6.00, 실제 점수 : 91.00, 예측점수 : 94.00\n",
            "공부한 시간: 8.00, 실제 점수 : 97.00, 예측점수 : 100.00\n"
          ]
        }
      ]
    },
    {
      "cell_type": "code",
      "source": [
        "result"
      ],
      "metadata": {
        "colab": {
          "base_uri": "https://localhost:8080/"
        },
        "id": "wA7bI807vpfJ",
        "outputId": "fecaa84b-ff03-4276-8cf7-e1dd788bfb83"
      },
      "execution_count": 24,
      "outputs": [
        {
          "output_type": "execute_result",
          "data": {
            "text/plain": [
              "[82, 88, 94, 100]"
            ]
          },
          "metadata": {},
          "execution_count": 24
        }
      ]
    },
    {
      "cell_type": "code",
      "source": [
        "# 평균제곱 오차 함수 이용, 각 y 값대입 >> 최종값 구하기\n",
        "\n",
        "n = len(x)\n",
        "\n",
        "def mse(y, pred):\n",
        "    return (1/n) * sum((y-pred) ** 2)\n",
        "\n",
        "#평균 제곱 오차 출력\n",
        "print('평균제곱오차 : ' + str(mse(y, result)))"
      ],
      "metadata": {
        "colab": {
          "base_uri": "https://localhost:8080/"
        },
        "id": "D8qTJAqruVsT",
        "outputId": "fee12bce-88de-4f70-db6f-d1ed7aa1abb7"
      },
      "execution_count": 27,
      "outputs": [
        {
          "output_type": "stream",
          "name": "stdout",
          "text": [
            "평균제곱오차 : 11.0\n"
          ]
        }
      ]
    }
  ]
}