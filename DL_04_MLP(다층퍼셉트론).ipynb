{
  "nbformat": 4,
  "nbformat_minor": 0,
  "metadata": {
    "colab": {
      "provenance": []
    },
    "kernelspec": {
      "name": "python3",
      "display_name": "Python 3"
    },
    "language_info": {
      "name": "python"
    }
  },
  "cells": [
    {
      "cell_type": "code",
      "execution_count": 1,
      "metadata": {
        "id": "AS9ADfzcKFEm"
      },
      "outputs": [],
      "source": [
        "# MLP (Multi-Layer Perceptron : 다층 퍼셉트론)\n",
        "\n",
        "#미션 : 다층 퍼셉트론으로 XOR 문제 해결\n",
        "\n",
        "import numpy as np\n",
        "import pandas as pd\n"
      ]
    },
    {
      "cell_type": "code",
      "source": [
        "#가중치와 바이어스 설정(임의값)\n",
        "\n",
        "#가중치\n",
        "w11 = np.array([-2, -2])\n",
        "w12 = np.array([2, 2])\n",
        "w2 = np.array([1, 1])\n",
        "\n",
        "#바이어스\n",
        "b1 = 3\n",
        "b2 = -1\n",
        "b3 = -1\n",
        "\n",
        "\n"
      ],
      "metadata": {
        "id": "we3j1G16KbDl"
      },
      "execution_count": 2,
      "outputs": []
    },
    {
      "cell_type": "code",
      "source": [
        "#퍼셉트론\n",
        "\n",
        "def MLP(x,w,b):\n",
        "    y = np.sum(w * x) + b\n",
        "    if y <= 0:\n",
        "        return 0\n",
        "    else:\n",
        "        return 1"
      ],
      "metadata": {
        "id": "rrxmeC7xKtHO"
      },
      "execution_count": 4,
      "outputs": []
    },
    {
      "cell_type": "code",
      "source": [
        "#XOR 문제 해결 위한 게이트 설정\n",
        "\n",
        "#AND(NAND, OR) >> XOR\n",
        "\n",
        "# NAND 게이트\n",
        "def NAND(x1, x2):\n",
        "    return MLP(np.array([x1,x2]), w11, b1)\n",
        "\n",
        "# OR 게이트\n",
        "def OR(x1, x2):\n",
        "    return MLP(np.array([x1,x2]), w12, b2)\n",
        "\n",
        "# AND 게이트\n",
        "def AND(x1, x2):\n",
        "    return MLP(np.array([x1,x2]), w2, b3)\n",
        "\n",
        "# XOR 게이트\n",
        "def XOR(x1, x2):\n",
        "    return AND(NAND(x1,x2), OR(x1,x2))"
      ],
      "metadata": {
        "id": "CG3P99L2K61h"
      },
      "execution_count": 11,
      "outputs": []
    },
    {
      "cell_type": "code",
      "source": [
        "for x in [(0,0),(1,0),(0,1),(1,1)]:\n",
        "    y = XOR(x[0],x[1])\n",
        "    print('입력값: ' +str(x) + '출력값: ' + str(y))"
      ],
      "metadata": {
        "colab": {
          "base_uri": "https://localhost:8080/"
        },
        "id": "rRrsH5RhK6zW",
        "outputId": "3c66f4ba-9d90-4ad8-b2ee-d3546143dd23"
      },
      "execution_count": 12,
      "outputs": [
        {
          "output_type": "stream",
          "name": "stdout",
          "text": [
            "입력값: (0, 0)출력값: 0\n",
            "입력값: (1, 0)출력값: 1\n",
            "입력값: (0, 1)출력값: 1\n",
            "입력값: (1, 1)출력값: 0\n"
          ]
        }
      ]
    },
    {
      "cell_type": "code",
      "source": [],
      "metadata": {
        "id": "oI0VVKjuK6xg"
      },
      "execution_count": null,
      "outputs": []
    },
    {
      "cell_type": "code",
      "source": [],
      "metadata": {
        "id": "LN9ib7NPK6wB"
      },
      "execution_count": null,
      "outputs": []
    },
    {
      "cell_type": "code",
      "source": [],
      "metadata": {
        "id": "EucNHQ_sK6t1"
      },
      "execution_count": null,
      "outputs": []
    },
    {
      "cell_type": "code",
      "source": [],
      "metadata": {
        "id": "eB4aY4TeK6rs"
      },
      "execution_count": null,
      "outputs": []
    },
    {
      "cell_type": "code",
      "source": [],
      "metadata": {
        "id": "nMWSB02TK6p1"
      },
      "execution_count": null,
      "outputs": []
    },
    {
      "cell_type": "code",
      "source": [],
      "metadata": {
        "id": "DM1tXBLlK6nZ"
      },
      "execution_count": null,
      "outputs": []
    }
  ]
}