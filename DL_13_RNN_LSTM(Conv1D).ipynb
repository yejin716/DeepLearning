{
  "cells": [
    {
      "cell_type": "code",
      "execution_count": 3,
      "metadata": {
        "colab": {
          "base_uri": "https://localhost:8080/"
        },
        "id": "kJZrIvELFp_u",
        "outputId": "18c09718-a1f3-4fdd-c95a-345c4802e637"
      },
      "outputs": [
        {
          "name": "stdout",
          "output_type": "stream",
          "text": [
            "Collecting attention\n",
            "  Downloading attention-5.0.0-py3-none-any.whl (9.0 kB)\n",
            "Requirement already satisfied: numpy>=1.18.1 in /usr/local/lib/python3.10/dist-packages (from attention) (1.25.2)\n",
            "Requirement already satisfied: tensorflow>=2.1 in /usr/local/lib/python3.10/dist-packages (from attention) (2.15.0)\n",
            "Requirement already satisfied: absl-py>=1.0.0 in /usr/local/lib/python3.10/dist-packages (from tensorflow>=2.1->attention) (1.4.0)\n",
            "Requirement already satisfied: astunparse>=1.6.0 in /usr/local/lib/python3.10/dist-packages (from tensorflow>=2.1->attention) (1.6.3)\n",
            "Requirement already satisfied: flatbuffers>=23.5.26 in /usr/local/lib/python3.10/dist-packages (from tensorflow>=2.1->attention) (24.3.25)\n",
            "Requirement already satisfied: gast!=0.5.0,!=0.5.1,!=0.5.2,>=0.2.1 in /usr/local/lib/python3.10/dist-packages (from tensorflow>=2.1->attention) (0.5.4)\n",
            "Requirement already satisfied: google-pasta>=0.1.1 in /usr/local/lib/python3.10/dist-packages (from tensorflow>=2.1->attention) (0.2.0)\n",
            "Requirement already satisfied: h5py>=2.9.0 in /usr/local/lib/python3.10/dist-packages (from tensorflow>=2.1->attention) (3.9.0)\n",
            "Requirement already satisfied: libclang>=13.0.0 in /usr/local/lib/python3.10/dist-packages (from tensorflow>=2.1->attention) (18.1.1)\n",
            "Requirement already satisfied: ml-dtypes~=0.2.0 in /usr/local/lib/python3.10/dist-packages (from tensorflow>=2.1->attention) (0.2.0)\n",
            "Requirement already satisfied: opt-einsum>=2.3.2 in /usr/local/lib/python3.10/dist-packages (from tensorflow>=2.1->attention) (3.3.0)\n",
            "Requirement already satisfied: packaging in /usr/local/lib/python3.10/dist-packages (from tensorflow>=2.1->attention) (24.1)\n",
            "Requirement already satisfied: protobuf!=4.21.0,!=4.21.1,!=4.21.2,!=4.21.3,!=4.21.4,!=4.21.5,<5.0.0dev,>=3.20.3 in /usr/local/lib/python3.10/dist-packages (from tensorflow>=2.1->attention) (3.20.3)\n",
            "Requirement already satisfied: setuptools in /usr/local/lib/python3.10/dist-packages (from tensorflow>=2.1->attention) (67.7.2)\n",
            "Requirement already satisfied: six>=1.12.0 in /usr/local/lib/python3.10/dist-packages (from tensorflow>=2.1->attention) (1.16.0)\n",
            "Requirement already satisfied: termcolor>=1.1.0 in /usr/local/lib/python3.10/dist-packages (from tensorflow>=2.1->attention) (2.4.0)\n",
            "Requirement already satisfied: typing-extensions>=3.6.6 in /usr/local/lib/python3.10/dist-packages (from tensorflow>=2.1->attention) (4.12.2)\n",
            "Requirement already satisfied: wrapt<1.15,>=1.11.0 in /usr/local/lib/python3.10/dist-packages (from tensorflow>=2.1->attention) (1.14.1)\n",
            "Requirement already satisfied: tensorflow-io-gcs-filesystem>=0.23.1 in /usr/local/lib/python3.10/dist-packages (from tensorflow>=2.1->attention) (0.37.0)\n",
            "Requirement already satisfied: grpcio<2.0,>=1.24.3 in /usr/local/lib/python3.10/dist-packages (from tensorflow>=2.1->attention) (1.64.1)\n",
            "Requirement already satisfied: tensorboard<2.16,>=2.15 in /usr/local/lib/python3.10/dist-packages (from tensorflow>=2.1->attention) (2.15.2)\n",
            "Requirement already satisfied: tensorflow-estimator<2.16,>=2.15.0 in /usr/local/lib/python3.10/dist-packages (from tensorflow>=2.1->attention) (2.15.0)\n",
            "Requirement already satisfied: keras<2.16,>=2.15.0 in /usr/local/lib/python3.10/dist-packages (from tensorflow>=2.1->attention) (2.15.0)\n",
            "Requirement already satisfied: wheel<1.0,>=0.23.0 in /usr/local/lib/python3.10/dist-packages (from astunparse>=1.6.0->tensorflow>=2.1->attention) (0.43.0)\n",
            "Requirement already satisfied: google-auth<3,>=1.6.3 in /usr/local/lib/python3.10/dist-packages (from tensorboard<2.16,>=2.15->tensorflow>=2.1->attention) (2.27.0)\n",
            "Requirement already satisfied: google-auth-oauthlib<2,>=0.5 in /usr/local/lib/python3.10/dist-packages (from tensorboard<2.16,>=2.15->tensorflow>=2.1->attention) (1.2.0)\n",
            "Requirement already satisfied: markdown>=2.6.8 in /usr/local/lib/python3.10/dist-packages (from tensorboard<2.16,>=2.15->tensorflow>=2.1->attention) (3.6)\n",
            "Requirement already satisfied: requests<3,>=2.21.0 in /usr/local/lib/python3.10/dist-packages (from tensorboard<2.16,>=2.15->tensorflow>=2.1->attention) (2.31.0)\n",
            "Requirement already satisfied: tensorboard-data-server<0.8.0,>=0.7.0 in /usr/local/lib/python3.10/dist-packages (from tensorboard<2.16,>=2.15->tensorflow>=2.1->attention) (0.7.2)\n",
            "Requirement already satisfied: werkzeug>=1.0.1 in /usr/local/lib/python3.10/dist-packages (from tensorboard<2.16,>=2.15->tensorflow>=2.1->attention) (3.0.3)\n",
            "Requirement already satisfied: cachetools<6.0,>=2.0.0 in /usr/local/lib/python3.10/dist-packages (from google-auth<3,>=1.6.3->tensorboard<2.16,>=2.15->tensorflow>=2.1->attention) (5.3.3)\n",
            "Requirement already satisfied: pyasn1-modules>=0.2.1 in /usr/local/lib/python3.10/dist-packages (from google-auth<3,>=1.6.3->tensorboard<2.16,>=2.15->tensorflow>=2.1->attention) (0.4.0)\n",
            "Requirement already satisfied: rsa<5,>=3.1.4 in /usr/local/lib/python3.10/dist-packages (from google-auth<3,>=1.6.3->tensorboard<2.16,>=2.15->tensorflow>=2.1->attention) (4.9)\n",
            "Requirement already satisfied: requests-oauthlib>=0.7.0 in /usr/local/lib/python3.10/dist-packages (from google-auth-oauthlib<2,>=0.5->tensorboard<2.16,>=2.15->tensorflow>=2.1->attention) (1.3.1)\n",
            "Requirement already satisfied: charset-normalizer<4,>=2 in /usr/local/lib/python3.10/dist-packages (from requests<3,>=2.21.0->tensorboard<2.16,>=2.15->tensorflow>=2.1->attention) (3.3.2)\n",
            "Requirement already satisfied: idna<4,>=2.5 in /usr/local/lib/python3.10/dist-packages (from requests<3,>=2.21.0->tensorboard<2.16,>=2.15->tensorflow>=2.1->attention) (3.7)\n",
            "Requirement already satisfied: urllib3<3,>=1.21.1 in /usr/local/lib/python3.10/dist-packages (from requests<3,>=2.21.0->tensorboard<2.16,>=2.15->tensorflow>=2.1->attention) (2.0.7)\n",
            "Requirement already satisfied: certifi>=2017.4.17 in /usr/local/lib/python3.10/dist-packages (from requests<3,>=2.21.0->tensorboard<2.16,>=2.15->tensorflow>=2.1->attention) (2024.6.2)\n",
            "Requirement already satisfied: MarkupSafe>=2.1.1 in /usr/local/lib/python3.10/dist-packages (from werkzeug>=1.0.1->tensorboard<2.16,>=2.15->tensorflow>=2.1->attention) (2.1.5)\n",
            "Requirement already satisfied: pyasn1<0.7.0,>=0.4.6 in /usr/local/lib/python3.10/dist-packages (from pyasn1-modules>=0.2.1->google-auth<3,>=1.6.3->tensorboard<2.16,>=2.15->tensorflow>=2.1->attention) (0.6.0)\n",
            "Requirement already satisfied: oauthlib>=3.0.0 in /usr/local/lib/python3.10/dist-packages (from requests-oauthlib>=0.7.0->google-auth-oauthlib<2,>=0.5->tensorboard<2.16,>=2.15->tensorflow>=2.1->attention) (3.2.2)\n",
            "Installing collected packages: attention\n",
            "Successfully installed attention-5.0.0\n"
          ]
        }
      ],
      "source": [
        "!pip install attention"
      ]
    },
    {
      "cell_type": "code",
      "execution_count": 95,
      "metadata": {
        "id": "cF5VWEA8DrRH"
      },
      "outputs": [],
      "source": [
        "import numpy as np\n",
        "import pandas as pd\n",
        "import matplotlib.pyplot as plt\n",
        "import tensorflow as tf\n",
        "\n",
        "from tensorflow.keras.models import Sequential\n",
        "from tensorflow.keras.layers import Dense, LSTM, Dropout, SimpleRNN, Embedding, Conv1D, MaxPooling1D\n",
        "from tensorflow.keras.utils import to_categorical, plot_model\n",
        "from tensorflow.keras.preprocessing import sequence\n",
        "from tensorflow.keras.callbacks import EarlyStopping, ModelCheckpoint\n",
        "from sklearn.model_selection import train_test_split\n",
        "#데이터\n",
        "from tensorflow.keras.datasets import reuters, imdb\n",
        "\n",
        "from attention import Attention\n"
      ]
    },
    {
      "cell_type": "markdown",
      "metadata": {
        "id": "_4fVredKDUgL"
      },
      "source": [
        "RNN(순환신경망)"
      ]
    },
    {
      "cell_type": "code",
      "execution_count": 38,
      "metadata": {
        "id": "8dGBw9V-DoqW"
      },
      "outputs": [],
      "source": [
        "#하이퍼 파라미터 설정\n",
        "vocab_size = 10000 #어휘 사전 크기\n",
        "max_len = 200 # sequence 최대 길이\n",
        "embedding_dim = 32 #임베딩 (문자 >> 숫자) 차원\n",
        "batch_size = 64 #배치 크기\n",
        "epochs = 5 #학습 횟수\n",
        "\n",
        "#데이터 가져오기\n",
        "(x_train, y_train) , (x_test, y_test) = imdb.load_data(num_words=vocab_size)\n"
      ]
    },
    {
      "cell_type": "code",
      "execution_count": 39,
      "metadata": {
        "colab": {
          "base_uri": "https://localhost:8080/"
        },
        "id": "I0NGnLFEO1Dh",
        "outputId": "6ca8af89-6c57-47b3-a49f-68ec0d3b9518"
      },
      "outputs": [
        {
          "data": {
            "text/plain": [
              "numpy.ndarray"
            ]
          },
          "execution_count": 39,
          "metadata": {},
          "output_type": "execute_result"
        }
      ],
      "source": [
        "type(x_train)"
      ]
    },
    {
      "cell_type": "code",
      "execution_count": 40,
      "metadata": {
        "colab": {
          "base_uri": "https://localhost:8080/"
        },
        "id": "GDJf-peZHX-8",
        "outputId": "e345f5ae-655f-4c72-9631-4e050c6f3825"
      },
      "outputs": [
        {
          "name": "stdout",
          "output_type": "stream",
          "text": [
            "[1, 14, 22, 16, 43, 530, 973, 1622, 1385, 65, 458, 4468, 66, 3941, 4, 173, 36, 256, 5, 25, 100, 43, 838, 112, 50, 670, 2, 9, 35, 480, 284, 5, 150, 4, 172, 112, 167, 2, 336, 385, 39, 4, 172, 4536, 1111, 17, 546, 38, 13, 447, 4, 192, 50, 16, 6, 147, 2025, 19, 14, 22, 4, 1920, 4613, 469, 4, 22, 71, 87, 12, 16, 43, 530, 38, 76, 15, 13, 1247, 4, 22, 17, 515, 17, 12, 16, 626, 18, 2, 5, 62, 386, 12, 8, 316, 8, 106, 5, 4, 2223, 5244, 16, 480, 66, 3785, 33, 4, 130, 12, 16, 38, 619, 5, 25, 124, 51, 36, 135, 48, 25, 1415, 33, 6, 22, 12, 215, 28, 77, 52, 5, 14, 407, 16, 82, 2, 8, 4, 107, 117, 5952, 15, 256, 4, 2, 7, 3766, 5, 723, 36, 71, 43, 530, 476, 26, 400, 317, 46, 7, 4, 2, 1029, 13, 104, 88, 4, 381, 15, 297, 98, 32, 2071, 56, 26, 141, 6, 194, 7486, 18, 4, 226, 22, 21, 134, 476, 26, 480, 5, 144, 30, 5535, 18, 51, 36, 28, 224, 92, 25, 104, 4, 226, 65, 16, 38, 1334, 88, 12, 16, 283, 5, 16, 4472, 113, 103, 32, 15, 16, 5345, 19, 178, 32]\n"
          ]
        }
      ],
      "source": [
        "print(x_train[0]) #빈도수"
      ]
    },
    {
      "cell_type": "code",
      "execution_count": 41,
      "metadata": {
        "colab": {
          "base_uri": "https://localhost:8080/"
        },
        "id": "2n6DHYupK6He",
        "outputId": "5916d26e-29fa-43f1-f8ba-09921d107397"
      },
      "outputs": [
        {
          "name": "stdout",
          "output_type": "stream",
          "text": [
            "<class 'list'>\n"
          ]
        }
      ],
      "source": [
        "print(type(x_train[0]))"
      ]
    },
    {
      "cell_type": "code",
      "execution_count": 42,
      "metadata": {
        "colab": {
          "base_uri": "https://localhost:8080/"
        },
        "id": "heFHVeVVHgTy",
        "outputId": "e119155b-ade2-46db-e2c1-0f562a5bb90e"
      },
      "outputs": [
        {
          "name": "stdout",
          "output_type": "stream",
          "text": [
            "[1 0 0 1 0 0 1 0 1 0]\n"
          ]
        }
      ],
      "source": [
        "print(y_train[:10]) # 긍/부정 데이터"
      ]
    },
    {
      "cell_type": "code",
      "execution_count": 43,
      "metadata": {
        "colab": {
          "base_uri": "https://localhost:8080/"
        },
        "id": "8KzDh61SINlt",
        "outputId": "cca211ef-344b-454f-c7b2-1cfb07662014"
      },
      "outputs": [
        {
          "data": {
            "text/plain": [
              "array([[   5,   25,  100, ...,   19,  178,   32],\n",
              "       [   0,    0,    0, ...,   16,  145,   95],\n",
              "       [   0,    0,    0, ...,    7,  129,  113],\n",
              "       ...,\n",
              "       [   0,    0,    0, ...,    4, 3586,    2],\n",
              "       [   0,    0,    0, ...,   12,    9,   23],\n",
              "       [   0,    0,    0, ...,  204,  131,    9]], dtype=int32)"
            ]
          },
          "execution_count": 43,
          "metadata": {},
          "output_type": "execute_result"
        }
      ],
      "source": [
        "sequence.pad_sequences(x_train, maxlen=200)\n",
        "#0의 의미 >> zero-padding (입력으로 들어갈 단어의 전체 길이를 200으로 맞추기 위함)"
      ]
    },
    {
      "cell_type": "code",
      "execution_count": 44,
      "metadata": {
        "colab": {
          "base_uri": "https://localhost:8080/"
        },
        "id": "DVCWbQ0BMt3o",
        "outputId": "aa426a5e-fa83-4345-b127-b2b8124abc6f"
      },
      "outputs": [
        {
          "data": {
            "text/plain": [
              "array([[   0,    0,    0, ...,   14,    6,  717],\n",
              "       [1987,    2,   45, ...,  125,    4, 3077],\n",
              "       [4468,  189,    4, ...,    9,   57,  975],\n",
              "       ...,\n",
              "       [   0,    0,    0, ...,   21,  846, 5518],\n",
              "       [   0,    0,    0, ..., 2302,    7,  470],\n",
              "       [   0,    0,    0, ...,   34, 2005, 2643]], dtype=int32)"
            ]
          },
          "execution_count": 44,
          "metadata": {},
          "output_type": "execute_result"
        }
      ],
      "source": [
        "sequence.pad_sequences(x_test, maxlen=200)\n"
      ]
    },
    {
      "cell_type": "code",
      "execution_count": 45,
      "metadata": {
        "id": "edbiRB3zH-Y6"
      },
      "outputs": [],
      "source": [
        "#sequence padding\n",
        "\n",
        "x_train = sequence.pad_sequences(x_train, maxlen=max_len)\n",
        "x_test = sequence.pad_sequences(x_test, maxlen=max_len)"
      ]
    },
    {
      "cell_type": "code",
      "execution_count": 46,
      "metadata": {
        "colab": {
          "base_uri": "https://localhost:8080/"
        },
        "id": "XnyDl9ZKH-V2",
        "outputId": "b6be7926-eff4-4301-b821-2a3aa52340d4"
      },
      "outputs": [
        {
          "data": {
            "text/plain": [
              "array([[   5,   25,  100, ...,   19,  178,   32],\n",
              "       [   0,    0,    0, ...,   16,  145,   95],\n",
              "       [   0,    0,    0, ...,    7,  129,  113],\n",
              "       ...,\n",
              "       [   0,    0,    0, ...,    4, 3586,    2],\n",
              "       [   0,    0,    0, ...,   12,    9,   23],\n",
              "       [   0,    0,    0, ...,  204,  131,    9]], dtype=int32)"
            ]
          },
          "execution_count": 46,
          "metadata": {},
          "output_type": "execute_result"
        }
      ],
      "source": [
        "x_train"
      ]
    },
    {
      "cell_type": "code",
      "execution_count": 47,
      "metadata": {
        "colab": {
          "base_uri": "https://localhost:8080/",
          "height": 72
        },
        "id": "Bw1xh9X3PxFa",
        "outputId": "139367d8-462e-4e7a-c6ad-26bb5b8c04f5"
      },
      "outputs": [
        {
          "data": {
            "application/vnd.google.colaboratory.intrinsic+json": {
              "type": "string"
            },
            "text/plain": [
              "'\\nRNN 계층 전체 sequence 대한 학습을 수행, 처리한 후. 마지막 time step 출력만 다음 층(next layer)전달\\n즉, 최종상태(context vector 문맥 벡터)를 기반으로 분류 \\n\\n# return_sequences=False\\n각 time step 출력 반환.\\n즉 모든 time step 출력 반환, 다음 rnn계층이 입력으로 사용\\nrnn 계층을 여러 개 쌓을때 활용 \\n'"
            ]
          },
          "execution_count": 47,
          "metadata": {},
          "output_type": "execute_result"
        }
      ],
      "source": [
        "#모델 생성(RNN)\n",
        "\n",
        "model = Sequential()\n",
        "model.add(Embedding(vocab_size, embedding_dim, input_length=max_len)) # 10000, 32차원\n",
        "model.add(SimpleRNN(64, return_sequences=False))\n",
        "model.add(Dense(1, activation='sigmoid'))\n",
        "\n",
        "# return_sequences=False\n",
        "'''\n",
        "RNN 계층 전체 sequence 대한 학습을 수행, 처리한 후. 마지막 time step 출력만 다음 층(next layer)전달\n",
        "즉, 최종상태(context vector 문맥 벡터)를 기반으로 분류\n",
        "\n",
        "# return_sequences=True\n",
        "각 time step 출력 반환.\n",
        "즉 모든 time step 출력 반환, 다음 rnn계층이 입력으로 사용\n",
        "rnn 계층을 여러 개 쌓을때 활용\n",
        "'''"
      ]
    },
    {
      "cell_type": "code",
      "execution_count": 48,
      "metadata": {
        "id": "TDeNssOKjNl7"
      },
      "outputs": [],
      "source": [
        "#모델 컴파일 (학습 환경 설정)\n",
        "model.compile(loss='binary_crossentropy', optimizer='adam', metrics=['accuracy'])\n"
      ]
    },
    {
      "cell_type": "code",
      "execution_count": 49,
      "metadata": {
        "id": "DxbrhULGm6pO"
      },
      "outputs": [],
      "source": [
        "#학습의 조기 중단 설정\n",
        "early_stopping_callback = EarlyStopping(monitor='val_loss', patience=5)"
      ]
    },
    {
      "cell_type": "code",
      "execution_count": 50,
      "metadata": {
        "colab": {
          "base_uri": "https://localhost:8080/"
        },
        "id": "qq1nxPtajWPN",
        "outputId": "624d4a21-a1c7-43af-af14-5dc4e980264d"
      },
      "outputs": [
        {
          "name": "stdout",
          "output_type": "stream",
          "text": [
            "Epoch 1/5\n",
            "391/391 [==============================] - 114s 285ms/step - loss: 0.5967 - accuracy: 0.6502 - val_loss: 0.5415 - val_accuracy: 0.7303\n",
            "Epoch 2/5\n",
            "391/391 [==============================] - 87s 222ms/step - loss: 0.5165 - accuracy: 0.7549 - val_loss: 0.6129 - val_accuracy: 0.6678\n",
            "Epoch 3/5\n",
            "391/391 [==============================] - 78s 198ms/step - loss: 0.3582 - accuracy: 0.8460 - val_loss: 0.3770 - val_accuracy: 0.8471\n",
            "Epoch 4/5\n",
            "391/391 [==============================] - 84s 214ms/step - loss: 0.2789 - accuracy: 0.8880 - val_loss: 0.4614 - val_accuracy: 0.7900\n",
            "Epoch 5/5\n",
            "391/391 [==============================] - 82s 210ms/step - loss: 0.4910 - accuracy: 0.7646 - val_loss: 0.6071 - val_accuracy: 0.6605\n"
          ]
        }
      ],
      "source": [
        "#모델 학습 (fi/ train data만)\n",
        "history = model.fit(x_train, y_train, batch_size=batch_size, epochs=epochs, validation_data=(x_test, y_test),\n",
        "                    callbacks=[early_stopping_callback])"
      ]
    },
    {
      "cell_type": "code",
      "execution_count": 51,
      "metadata": {
        "colab": {
          "base_uri": "https://localhost:8080/"
        },
        "id": "PDgXtNFDjg1L",
        "outputId": "ec8c4734-bd0f-450d-9348-91352918c79e"
      },
      "outputs": [
        {
          "name": "stdout",
          "output_type": "stream",
          "text": [
            "782/782 [==============================] - 14s 18ms/step - loss: 0.6071 - accuracy: 0.6605\n",
            "텍스트 정확도: 0.6605\n"
          ]
        }
      ],
      "source": [
        "#결과 출력\n",
        "print('텍스트 정확도: %.4f' %(model.evaluate(x_test, y_test)[1]))"
      ]
    },
    {
      "cell_type": "markdown",
      "metadata": {
        "id": "wlI0lqIMDhdq"
      },
      "source": [
        "LSTM(로이터 뉴스 카테고리 분류)"
      ]
    },
    {
      "cell_type": "code",
      "execution_count": 67,
      "metadata": {
        "id": "deYX_M80DIq3"
      },
      "outputs": [],
      "source": [
        "#데이터 가져오기\n",
        "(x_train, y_train), (x_test, y_test) = \\\n",
        "reuters.load_data(num_words = 1000, test_split=0.2)\n",
        "#num_words=1000 빈도수가 큰 것을 기준으로 구분된 1000개, train/test 비율 80 / 20"
      ]
    },
    {
      "cell_type": "code",
      "execution_count": 53,
      "metadata": {
        "colab": {
          "base_uri": "https://localhost:8080/"
        },
        "id": "W929T2wijvFj",
        "outputId": "df783196-7a3b-4463-ec5a-e05ae0d96574"
      },
      "outputs": [
        {
          "data": {
            "text/plain": [
              "[1,\n",
              " 2,\n",
              " 2,\n",
              " 8,\n",
              " 43,\n",
              " 10,\n",
              " 447,\n",
              " 5,\n",
              " 25,\n",
              " 207,\n",
              " 270,\n",
              " 5,\n",
              " 2,\n",
              " 111,\n",
              " 16,\n",
              " 369,\n",
              " 186,\n",
              " 90,\n",
              " 67,\n",
              " 7,\n",
              " 89,\n",
              " 5,\n",
              " 19,\n",
              " 102,\n",
              " 6,\n",
              " 19,\n",
              " 124,\n",
              " 15,\n",
              " 90,\n",
              " 67,\n",
              " 84,\n",
              " 22,\n",
              " 482,\n",
              " 26,\n",
              " 7,\n",
              " 48,\n",
              " 4,\n",
              " 49,\n",
              " 8,\n",
              " 864,\n",
              " 39,\n",
              " 209,\n",
              " 154,\n",
              " 6,\n",
              " 151,\n",
              " 6,\n",
              " 83,\n",
              " 11,\n",
              " 15,\n",
              " 22,\n",
              " 155,\n",
              " 11,\n",
              " 15,\n",
              " 7,\n",
              " 48,\n",
              " 9,\n",
              " 2,\n",
              " 2,\n",
              " 504,\n",
              " 6,\n",
              " 258,\n",
              " 6,\n",
              " 272,\n",
              " 11,\n",
              " 15,\n",
              " 22,\n",
              " 134,\n",
              " 44,\n",
              " 11,\n",
              " 15,\n",
              " 16,\n",
              " 8,\n",
              " 197,\n",
              " 2,\n",
              " 90,\n",
              " 67,\n",
              " 52,\n",
              " 29,\n",
              " 209,\n",
              " 30,\n",
              " 32,\n",
              " 132,\n",
              " 6,\n",
              " 109,\n",
              " 15,\n",
              " 17,\n",
              " 12]"
            ]
          },
          "execution_count": 53,
          "metadata": {},
          "output_type": "execute_result"
        }
      ],
      "source": [
        "x_train[0]"
      ]
    },
    {
      "cell_type": "code",
      "execution_count": 54,
      "metadata": {
        "colab": {
          "base_uri": "https://localhost:8080/"
        },
        "id": "T2FAw3uFkv4e",
        "outputId": "8fe7e110-425f-4d0d-d6f0-a3c652ed162a"
      },
      "outputs": [
        {
          "name": "stdout",
          "output_type": "stream",
          "text": [
            "46 종류\n",
            "8982 학습용 뉴스기사\n",
            "2246 평가용 뉴스기사\n"
          ]
        }
      ],
      "source": [
        "#데이터 확인\n",
        "ca = np.max(y_train) + 1 # 45 + 1 = 46 (index가 0으로 시작하기 때문)\n",
        "print(ca, '종류')\n",
        "print(len(x_train), '학습용 뉴스기사')\n",
        "print(len(x_test), '평가용 뉴스기사')\n"
      ]
    },
    {
      "cell_type": "code",
      "execution_count": 68,
      "metadata": {
        "id": "rIk1x3Oalesz"
      },
      "outputs": [],
      "source": [
        "x_train = sequence.pad_sequences(x_train, maxlen=100)\n",
        "x_test = sequence.pad_sequences(x_test, maxlen=100)"
      ]
    },
    {
      "cell_type": "code",
      "execution_count": 56,
      "metadata": {
        "colab": {
          "base_uri": "https://localhost:8080/"
        },
        "id": "l_mZvJWAlkJ2",
        "outputId": "dbdd2bc1-65dd-4079-8af6-f62c25694d36"
      },
      "outputs": [
        {
          "name": "stdout",
          "output_type": "stream",
          "text": [
            "[  0   0   0   0   0   0   0   0   0   0   0   0   0   1   2   2   8  43\n",
            "  10 447   5  25 207 270   5   2 111  16 369 186  90  67   7  89   5  19\n",
            " 102   6  19 124  15  90  67  84  22 482  26   7  48   4  49   8 864  39\n",
            " 209 154   6 151   6  83  11  15  22 155  11  15   7  48   9   2   2 504\n",
            "   6 258   6 272  11  15  22 134  44  11  15  16   8 197   2  90  67  52\n",
            "  29 209  30  32 132   6 109  15  17  12]\n"
          ]
        }
      ],
      "source": [
        "print(x_train[0])"
      ]
    },
    {
      "cell_type": "code",
      "execution_count": 57,
      "metadata": {
        "colab": {
          "base_uri": "https://localhost:8080/"
        },
        "id": "ezdfSGJQls2O",
        "outputId": "1da14ed0-7658-4cb2-90b2-2c804afcd17d"
      },
      "outputs": [
        {
          "name": "stdout",
          "output_type": "stream",
          "text": [
            "[ 3  4  3 ... 25  3 25]\n"
          ]
        }
      ],
      "source": [
        "print(y_train)\n"
      ]
    },
    {
      "cell_type": "code",
      "execution_count": 69,
      "metadata": {
        "id": "kJTfgnU8lntX"
      },
      "outputs": [],
      "source": [
        "#원핫 인코딩 전처리\n",
        "y_train = to_categorical(y_train)\n",
        "y_test = to_categorical(y_test)"
      ]
    },
    {
      "cell_type": "code",
      "execution_count": 59,
      "metadata": {
        "colab": {
          "base_uri": "https://localhost:8080/"
        },
        "id": "e8LF1a_Ll5yP",
        "outputId": "e9c1d06b-8e42-4e88-8d2a-aa3147825a7d"
      },
      "outputs": [
        {
          "name": "stdout",
          "output_type": "stream",
          "text": [
            "[0. 0. 0. 1. 0. 0. 0. 0. 0. 0. 0. 0. 0. 0. 0. 0. 0. 0. 0. 0. 0. 0. 0. 0.\n",
            " 0. 0. 0. 0. 0. 0. 0. 0. 0. 0. 0. 0. 0. 0. 0. 0. 0. 0. 0. 0. 0. 0.]\n"
          ]
        }
      ],
      "source": [
        "print(y_train[0])"
      ]
    },
    {
      "cell_type": "code",
      "execution_count": 70,
      "metadata": {
        "id": "FMr3djWJjvDB"
      },
      "outputs": [],
      "source": [
        "#모델 구조\n",
        "model = Sequential()\n",
        "model.add(Embedding(1000, 100))\n",
        "#Embedding('불러온 단어의 총수','기사당 단어수')\n",
        "model.add(LSTM(100, activation='tanh'))\n",
        "#LSTM >> tanh\n",
        "model.add(Dense(46, activation='softmax'))\n",
        "# 46 카테고리로 분류 (다중분류)"
      ]
    },
    {
      "cell_type": "code",
      "execution_count": 71,
      "metadata": {
        "id": "EioZ-h6Mmsns"
      },
      "outputs": [],
      "source": [
        "#모델 실행\n",
        "model.compile(loss='categorical_crossentropy', optimizer='adam', metrics=['accuracy'])"
      ]
    },
    {
      "cell_type": "code",
      "execution_count": 72,
      "metadata": {
        "id": "jObL_DUfjvAH"
      },
      "outputs": [],
      "source": [
        "#학습의 조기 중단 설정\n",
        "early_stopping_callback = EarlyStopping(monitor='val_loss', patience=5)"
      ]
    },
    {
      "cell_type": "code",
      "execution_count": 75,
      "metadata": {
        "colab": {
          "base_uri": "https://localhost:8080/"
        },
        "id": "pGgcL_-3nNm7",
        "outputId": "cf44901c-8450-4a9a-c8ef-7f0a371b9e47"
      },
      "outputs": [
        {
          "name": "stdout",
          "output_type": "stream",
          "text": [
            "Epoch 1/200\n",
            "450/450 [==============================] - 23s 51ms/step - loss: 1.5319 - accuracy: 0.6091 - val_loss: 1.5927 - val_accuracy: 0.6064\n",
            "Epoch 2/200\n",
            "450/450 [==============================] - 7s 16ms/step - loss: 1.3852 - accuracy: 0.6432 - val_loss: 1.4423 - val_accuracy: 0.6394\n",
            "Epoch 3/200\n",
            "450/450 [==============================] - 5s 10ms/step - loss: 1.2653 - accuracy: 0.6828 - val_loss: 1.3560 - val_accuracy: 0.6652\n",
            "Epoch 4/200\n",
            "450/450 [==============================] - 6s 14ms/step - loss: 1.1891 - accuracy: 0.7001 - val_loss: 1.3009 - val_accuracy: 0.6861\n",
            "Epoch 5/200\n",
            "450/450 [==============================] - 4s 9ms/step - loss: 1.0781 - accuracy: 0.7326 - val_loss: 1.2806 - val_accuracy: 0.6932\n",
            "Epoch 6/200\n",
            "450/450 [==============================] - 4s 9ms/step - loss: 1.0058 - accuracy: 0.7478 - val_loss: 1.2274 - val_accuracy: 0.6977\n",
            "Epoch 7/200\n",
            "450/450 [==============================] - 4s 10ms/step - loss: 0.9263 - accuracy: 0.7664 - val_loss: 1.1872 - val_accuracy: 0.7093\n",
            "Epoch 8/200\n",
            "450/450 [==============================] - 4s 9ms/step - loss: 0.8509 - accuracy: 0.7846 - val_loss: 1.2276 - val_accuracy: 0.6963\n",
            "Epoch 9/200\n",
            "450/450 [==============================] - 4s 9ms/step - loss: 0.7935 - accuracy: 0.7998 - val_loss: 1.1814 - val_accuracy: 0.7124\n",
            "Epoch 10/200\n",
            "450/450 [==============================] - 5s 11ms/step - loss: 0.7376 - accuracy: 0.8082 - val_loss: 1.1932 - val_accuracy: 0.6995\n",
            "Epoch 11/200\n",
            "450/450 [==============================] - 4s 10ms/step - loss: 0.6806 - accuracy: 0.8306 - val_loss: 1.2023 - val_accuracy: 0.7110\n",
            "Epoch 12/200\n",
            "450/450 [==============================] - 4s 10ms/step - loss: 0.6269 - accuracy: 0.8398 - val_loss: 1.2389 - val_accuracy: 0.7119\n",
            "Epoch 13/200\n",
            "450/450 [==============================] - 5s 10ms/step - loss: 0.5740 - accuracy: 0.8574 - val_loss: 1.2088 - val_accuracy: 0.7182\n",
            "Epoch 14/200\n",
            "450/450 [==============================] - 4s 9ms/step - loss: 0.5294 - accuracy: 0.8636 - val_loss: 1.2712 - val_accuracy: 0.7133\n"
          ]
        }
      ],
      "source": [
        "history = model.fit(x_train, y_train, batch_size=20, epochs=200, validation_data=(x_test, y_test),\n",
        "          callbacks = [early_stopping_callback])"
      ]
    },
    {
      "cell_type": "code",
      "execution_count": 76,
      "metadata": {
        "colab": {
          "base_uri": "https://localhost:8080/"
        },
        "id": "kv-9ood2ni78",
        "outputId": "cd41adc7-5e26-4d62-ddf6-8f343b1f7eec"
      },
      "outputs": [
        {
          "name": "stdout",
          "output_type": "stream",
          "text": [
            "71/71 [==============================] - 0s 5ms/step - loss: 1.2712 - accuracy: 0.7133\n",
            "텍스트 정확도: 0.7133\n"
          ]
        }
      ],
      "source": [
        "#결과 출력\n",
        "print('텍스트 정확도: %.4f' %(model.evaluate(x_test, y_test)[1]))"
      ]
    },
    {
      "cell_type": "code",
      "execution_count": 77,
      "metadata": {
        "colab": {
          "base_uri": "https://localhost:8080/",
          "height": 881
        },
        "id": "13zQP3Q2nj38",
        "outputId": "ffa378df-5105-43f7-e623-c43a067c0019"
      },
      "outputs": [
        {
          "data": {
            "image/png": "[encoded data removed]",
            "text/plain": [
              "<Figure size 640x480 with 1 Axes>"
            ]
          },
          "metadata": {},
          "output_type": "display_data"
        },
        {
          "data": {
            "image/png": "[encoded data removed]",
            "text/plain": [
              "<Figure size 640x480 with 1 Axes>"
            ]
          },
          "metadata": {},
          "output_type": "display_data"
        }
      ],
      "source": [
        "# 데이터 시각화\n",
        "y_vloss = history.history['val_loss']\n",
        "y_loss = history.history['loss']\n",
        "# 그래프로 표현\n",
        "x_len = np.arange(len(y_loss))\n",
        "plt.plot(x_len, y_vloss, marker='.', c='red', label='test_loss')\n",
        "plt.plot(x_len, y_loss, marker='.', c='blue', label='train_loss')\n",
        "plt.legend(loc='best')\n",
        "plt.grid()\n",
        "plt.xlabel('epoch')\n",
        "plt.ylabel('loss')\n",
        "plt.show(0)\n"
      ]
    },
    {
      "cell_type": "markdown",
      "metadata": {
        "id": "ZawUITl9rKdo"
      },
      "source": [
        "LSTM / CNN 조합 >> imdb 영화 리뷰분류"
      ]
    },
    {
      "cell_type": "code",
      "execution_count": 105,
      "metadata": {
        "id": "tYxNmsZnrQ2t"
      },
      "outputs": [],
      "source": [
        "(x_train, y_train), (x_test, y_test) = imdb.load_data(num_words=5000)"
      ]
    },
    {
      "cell_type": "code",
      "execution_count": 106,
      "metadata": {
        "colab": {
          "base_uri": "https://localhost:8080/"
        },
        "id": "b2JGskJPrYug",
        "outputId": "5f5d13dd-efc0-4be9-b235-8672e87cc267"
      },
      "outputs": [
        {
          "name": "stdout",
          "output_type": "stream",
          "text": [
            "[   0    0    0    0    0    0    0    0    0    0    0    0    0    0\n",
            "    0    0    0    0    0    0    0    0    0    0    0    0    0    0\n",
            "    0    0    0    0    0    0    0    0    0    0    0    0    0    0\n",
            "    0    0    0    0    0    0    0    0    0    0    0    0    0    0\n",
            "    0    0    0    0    0    0    0    0    0    0    0    0    0    0\n",
            "    0    0    0    0    0    0    0    0    0    0    0    0    0    0\n",
            "    0    0    0    0    0    0    0    0    0    0    0    0    0    0\n",
            "    0    0    0    0    0    0    0    0    0    0    0    0    0    0\n",
            "    0    0    0    0    0    0    0    0    0    0    0    0    0    0\n",
            "    0    0    0    0    0    0    0    0    0    0    0    0    0    0\n",
            "    0    0    0    0    0    0    0    0    0    0    0    0    0    0\n",
            "    0    0    0    0    0    0    0    0    0    0    0    0    0    0\n",
            "    0    0    0    0    0    0    0    0    0    0    0    0    0    0\n",
            "    0    0    0    0    0    0    0    0    0    0    0    0    0    0\n",
            "    0    0    0    0    0    0    0    0    0    0    0    0    0    0\n",
            "    0    0    0    0    0    0    0    0    0    0    0    0    0    0\n",
            "    0    0    0    0    0    0    0    0    0    0    0    0    0    0\n",
            "    0    0    0    0    0    0    0    0    0    0    0    0    0    0\n",
            "    0    0    0    0    0    0    0    0    0    0    0    0    0    0\n",
            "    0    0    0    0    0    0    0    0    0    0    0    0    0    0\n",
            "    0    0    1   14   22   16   43  530  973 1622 1385   65  458 4468\n",
            "   66 3941    4  173   36  256    5   25  100   43  838  112   50  670\n",
            "    2    9   35  480  284    5  150    4  172  112  167    2  336  385\n",
            "   39    4  172 4536 1111   17  546   38   13  447    4  192   50   16\n",
            "    6  147 2025   19   14   22    4 1920 4613  469    4   22   71   87\n",
            "   12   16   43  530   38   76   15   13 1247    4   22   17  515   17\n",
            "   12   16  626   18    2    5   62  386   12    8  316    8  106    5\n",
            "    4 2223    2   16  480   66 3785   33    4  130   12   16   38  619\n",
            "    5   25  124   51   36  135   48   25 1415   33    6   22   12  215\n",
            "   28   77   52    5   14  407   16   82    2    8    4  107  117    2\n",
            "   15  256    4    2    7 3766    5  723   36   71   43  530  476   26\n",
            "  400  317   46    7    4    2 1029   13  104   88    4  381   15  297\n",
            "   98   32 2071   56   26  141    6  194    2   18    4  226   22   21\n",
            "  134  476   26  480    5  144   30    2   18   51   36   28  224   92\n",
            "   25  104    4  226   65   16   38 1334   88   12   16  283    5   16\n",
            " 4472  113  103   32   15   16    2   19  178   32]\n",
            "[   0    0    0    0    0    0    0    0    0    0    0    0    0    0\n",
            "    0    0    0    0    0    0    0    0    0    0    0    0    0    0\n",
            "    0    0    0    0    0    0    0    0    0    0    0    0    0    0\n",
            "    0    0    0    0    0    0    0    0    0    0    0    0    0    0\n",
            "    0    0    0    0    0    0    0    0    0    0    0    0    0    0\n",
            "    0    0    0    0    0    0    0    0    0    0    0    0    0    0\n",
            "    0    0    0    0    0    0    0    0    0    0    0    0    0    0\n",
            "    0    0    0    0    0    0    0    0    0    0    0    0    0    0\n",
            "    0    0    0    0    0    0    0    0    0    0    0    0    0    0\n",
            "    0    0    0    0    0    0    0    0    0    0    0    0    0    0\n",
            "    0    0    0    0    0    0    0    0    0    0    0    0    0    0\n",
            "    0    0    0    0    0    0    0    0    0    0    0    0    0    0\n",
            "    0    0    0    0    0    0    0    0    0    0    0    0    0    0\n",
            "    0    0    0    0    0    0    0    0    0    0    0    0    0    0\n",
            "    0    0    0    0    0    0    0    0    0    0    0    0    0    0\n",
            "    0    0    0    0    0    0    0    0    0    0    0    0    0    0\n",
            "    0    0    0    0    0    0    0    0    0    0    0    0    0    0\n",
            "    0    0    0    0    0    0    0    0    0    0    0    0    0    0\n",
            "    0    0    0    0    0    0    0    0    0    0    0    0    0    0\n",
            "    0    0    0    0    0    0    0    0    0    0    0    0    0    0\n",
            "    0    0    0    0    0    0    0    0    0    0    0    0    0    0\n",
            "    0    0    0    0    0    0    0    0    0    0    0    0    0    0\n",
            "    0    0    0    0    0    0    0    0    0    0    0    0    0    0\n",
            "    0    0    0    0    0    0    0    0    0    0    0    0    0    0\n",
            "    0    0    0    0    0    0    0    0    0    0    0    0    0    0\n",
            "    0    0    0    0    0    0    0    0    0    0    0    0    0    0\n",
            "    0    0    0    0    0    0    0    0    0    0    0    0    0    0\n",
            "    0    0    0    0    0    0    0    0    0    0    0    0    0    0\n",
            "    0    0    0    0    0    0    0    0    0    0    0    0    0    0\n",
            "    0    0    0    0    0    0    0    0    0    0    0    0    0    0\n",
            "    0    0    0    0    0    0    0    0    0    0    0    0    1  591\n",
            "  202   14   31    6  717   10   10    2    2    5    4  360    7    4\n",
            "  177    2  394  354    4  123    9 1035 1035 1035   10   10   13   92\n",
            "  124   89  488    2  100   28 1668   14   31   23   27    2   29  220\n",
            "  468    8  124   14  286  170    8  157   46    5   27  239   16  179\n",
            "    2   38   32   25    2  451  202   14    6  717]\n"
          ]
        }
      ],
      "source": [
        "x_train = sequence.pad_sequences(x_train, maxlen=500)\n",
        "x_test = sequence.pad_sequences(x_test, maxlen=500)\n",
        "\n",
        "print(x_train[0])\n",
        "print(x_test[0])\n",
        "\n"
      ]
    },
    {
      "cell_type": "code",
      "execution_count": 107,
      "metadata": {
        "colab": {
          "base_uri": "https://localhost:8080/"
        },
        "id": "U_epzoZ1rju1",
        "outputId": "eb218cc5-daf1-4e89-e8f8-d46a3595dbe0"
      },
      "outputs": [
        {
          "name": "stdout",
          "output_type": "stream",
          "text": [
            "Model: \"sequential_11\"\n",
            "_________________________________________________________________\n",
            " Layer (type)                Output Shape              Param #   \n",
            "=================================================================\n",
            " embedding_11 (Embedding)    (None, None, 100)         500000    \n",
            "                                                                 \n",
            " dropout_4 (Dropout)         (None, None, 100)         0         \n",
            "                                                                 \n",
            " conv1d_4 (Conv1D)           (None, None, 64)          32064     \n",
            "                                                                 \n",
            " max_pooling1d_4 (MaxPoolin  (None, None, 64)          0         \n",
            " g1D)                                                            \n",
            "                                                                 \n",
            " lstm_9 (LSTM)               (None, 50)                23000     \n",
            "                                                                 \n",
            " dense_11 (Dense)            (None, 1)                 51        \n",
            "                                                                 \n",
            "=================================================================\n",
            "Total params: 555115 (2.12 MB)\n",
            "Trainable params: 555115 (2.12 MB)\n",
            "Non-trainable params: 0 (0.00 Byte)\n",
            "_________________________________________________________________\n"
          ]
        }
      ],
      "source": [
        "#모델 구조 설정\n",
        "model = Sequential()\n",
        "model.add(Embedding(5000,100))\n",
        "model.add(Dropout(0.5))\n",
        "#CNN (Conv1D)\n",
        "model.add(Conv1D(64, 5, padding='valid', activation='relu', strides=1))\n",
        "# padding='valid' >> zero-padding 없이 convolution 통과한 출력값 사용\n",
        "model.add(MaxPooling1D(pool_size=4))\n",
        "# pool_size =4 >> 4개 값 중 최대값 추출 (차원 축소)\n",
        "\n",
        "#LSTM\n",
        "model.add(LSTM(50))\n",
        "#LSTM 50 unit 개수\n",
        "\n",
        "model.add(Dense(1, activation='sigmoid'))\n",
        "model.summary()"
      ]
    },
    {
      "cell_type": "code",
      "execution_count": null,
      "metadata": {
        "id": "7NM6pblvsX0x"
      },
      "outputs": [],
      "source": [
        "'''\n",
        "(1) embedding_2 (Embedding)\n",
        "vocab_size * embedding_dim\n",
        "5000 * 100 = 500000\n",
        "\n",
        "(2) dropout (Dropout)\n",
        "무작위 네트워크 끔 (변화없음)\n",
        "\n",
        "(3) conv1d (Conv1D)\n",
        "model.add(Conv1D(64, 5, padding='valid', activation='relu', strides=1))\n",
        "출력 특징수 64\n",
        "커널 크기 5 > 1차원\n",
        "입력 채널수 100\n",
        "(5 * 1) * 100 * 64 + 64(bias) = 32064\n",
        "\n",
        "(4) maxpooling1d (MaxPooling1D)\n",
        "pool_size 4 차원축소 (변화없음)\n",
        "\n",
        "(5) lstm (LSTM)\n",
        "유닛개수(lstm cell의 개수) 50\n",
        "입력특징수 (입력되는 데이터 차원수) 64\n",
        "파라미터 수\n",
        "4 * ((입력특징 수 + 유닛 개수 + 1) * 유닛개수)\n",
        "4 * ( 64 + 50 + 1 ) * 50 = 23000\n",
        ">> LSTM이 4개의 gate (forget gate, input gate, output gate, cell state)(입력, 출력, 망각, 기억)를 가짐\n",
        "\n",
        "(6) dense (Dense)\n",
        "50 * 1 + 1(bias) = 51\n",
        "'''"
      ]
    },
    {
      "cell_type": "code",
      "execution_count": 108,
      "metadata": {
        "id": "5ET8jNcg9VCu"
      },
      "outputs": [],
      "source": [
        "#모델 실행\n",
        "model.compile(loss='binary_crossentropy', optimizer='adam', metrics=['accuracy'])"
      ]
    },
    {
      "cell_type": "code",
      "execution_count": 109,
      "metadata": {
        "id": "yWl6sthg9dhG"
      },
      "outputs": [],
      "source": [
        "#학습의 조기 중단 설정\n",
        "early_stopping_callback = EarlyStopping(monitor='val_loss', patience=3)"
      ]
    },
    {
      "cell_type": "code",
      "execution_count": 110,
      "metadata": {
        "colab": {
          "base_uri": "https://localhost:8080/"
        },
        "id": "64h_Bgn89l3n",
        "outputId": "1cc58d84-0cd0-443d-fc03-d4c7be764709"
      },
      "outputs": [
        {
          "name": "stdout",
          "output_type": "stream",
          "text": [
            "Epoch 1/100\n",
            "469/469 [==============================] - 43s 87ms/step - loss: 0.4164 - accuracy: 0.7937 - val_loss: 0.2845 - val_accuracy: 0.8821\n",
            "Epoch 2/100\n",
            "469/469 [==============================] - 15s 33ms/step - loss: 0.2393 - accuracy: 0.9073 - val_loss: 0.2631 - val_accuracy: 0.8894\n",
            "Epoch 3/100\n",
            "469/469 [==============================] - 12s 27ms/step - loss: 0.1838 - accuracy: 0.9308 - val_loss: 0.2714 - val_accuracy: 0.8899\n",
            "Epoch 4/100\n",
            "469/469 [==============================] - 11s 24ms/step - loss: 0.1478 - accuracy: 0.9469 - val_loss: 0.2855 - val_accuracy: 0.8882\n",
            "Epoch 5/100\n",
            "469/469 [==============================] - 9s 17ms/step - loss: 0.1256 - accuracy: 0.9555 - val_loss: 0.3267 - val_accuracy: 0.8835\n"
          ]
        }
      ],
      "source": [
        "history = model.fit(x_train, y_train, batch_size=40, epochs=100, validation_split=0.25,\n",
        "          callbacks = [early_stopping_callback])"
      ]
    },
    {
      "cell_type": "code",
      "execution_count": 111,
      "metadata": {
        "colab": {
          "base_uri": "https://localhost:8080/"
        },
        "id": "k32YaTB2-l6y",
        "outputId": "c955b5cc-c27e-4e5b-ceeb-9e6708848a0e"
      },
      "outputs": [
        {
          "name": "stdout",
          "output_type": "stream",
          "text": [
            "782/782 [==============================] - 4s 5ms/step - loss: 0.3531 - accuracy: 0.8693\n",
            "텍스트 정확도: 0.8693\n"
          ]
        }
      ],
      "source": [
        "#결과 출력\n",
        "print('텍스트 정확도: %.4f' %(model.evaluate(x_test, y_test)[1]))"
      ]
    },
    {
      "cell_type": "code",
      "execution_count": 112,
      "metadata": {
        "colab": {
          "base_uri": "https://localhost:8080/",
          "height": 449
        },
        "id": "WxcKCIBF-oR6",
        "outputId": "92225293-cd03-4e23-b3c2-b5f775db0277"
      },
      "outputs": [
        {
          "data": {
            "image/png": "[encoded data removed]",
            "text/plain": [
              "<Figure size 640x480 with 1 Axes>"
            ]
          },
          "metadata": {},
          "output_type": "display_data"
        }
      ],
      "source": [
        "# 데이터 시각화\n",
        "y_vloss = history.history['val_loss']\n",
        "y_loss = history.history['loss']\n",
        "# 그래프 표현\n",
        "x_len = np.arange(len(y_loss))\n",
        "plt.plot(x_len, y_vloss, marker='.', c='red', label='Testset_loss')\n",
        "plt.plot(x_len, y_loss, marker='.', c='blue', label='Trainset_loss')\n",
        "plt.legend(loc='best')\n",
        "plt.grid()\n",
        "plt.xlabel('epoch')\n",
        "plt.ylabel('loss')\n",
        "plt.show()"
      ]
    },
    {
      "cell_type": "markdown",
      "metadata": {
        "id": "cN-onWHY_vI_"
      },
      "source": [
        "어텐션을 사용한 신경망"
      ]
    },
    {
      "cell_type": "code",
      "execution_count": 113,
      "metadata": {
        "colab": {
          "base_uri": "https://localhost:8080/"
        },
        "id": "_WzNMlUV-sd6",
        "outputId": "1a66f367-c87f-465d-ba91-ee5512a94f9b"
      },
      "outputs": [
        {
          "name": "stdout",
          "output_type": "stream",
          "text": [
            "Model: \"sequential_12\"\n",
            "_________________________________________________________________\n",
            " Layer (type)                Output Shape              Param #   \n",
            "=================================================================\n",
            " embedding_12 (Embedding)    (None, None, 500)         2500000   \n",
            "                                                                 \n",
            " dropout_5 (Dropout)         (None, None, 500)         0         \n",
            "                                                                 \n",
            " lstm_10 (LSTM)              (None, None, 64)          144640    \n",
            "                                                                 \n",
            " attention (Attention)       (None, 128)               20480     \n",
            "                                                                 \n",
            " dropout_6 (Dropout)         (None, 128)               0         \n",
            "                                                                 \n",
            " dense_12 (Dense)            (None, 1)                 129       \n",
            "                                                                 \n",
            "=================================================================\n",
            "Total params: 2665249 (10.17 MB)\n",
            "Trainable params: 2665249 (10.17 MB)\n",
            "Non-trainable params: 0 (0.00 Byte)\n",
            "_________________________________________________________________\n"
          ]
        }
      ],
      "source": [
        "#모델 구조 재설정\n",
        "\n",
        "model = Sequential()\n",
        "model.add(Embedding(5000,500))\n",
        "model.add(Dropout(0.5))\n",
        "\n",
        "#lstm 64유닛개수\n",
        "model.add(LSTM(64, return_sequences=True))\n",
        "model.add(Attention())\n",
        "model.add(Dropout(0.5))\n",
        "model.add(Dense(1, activation='sigmoid'))\n",
        "model.summary()"
      ]
    },
    {
      "cell_type": "code",
      "execution_count": null,
      "metadata": {
        "id": "9e2cvOk5AyCP"
      },
      "outputs": [],
      "source": [
        "'''\n",
        "(1) embedding_2 (Embedding)\n",
        "vocab_size * embedding_dim\n",
        "5000 * 500 = 2500000\n",
        "\n",
        "(2) dropout (Dropout)\n",
        "무작위 네트워크 끔 (변화없음)\n",
        "\n",
        "(3) lstm (LSTM)\n",
        "유닛개수(lstm cell의 개수) 64\n",
        "입력특징수 (입력되는 데이터 차원수) 500\n",
        "4 * (64 + 500 + 1) * 64 = 144640\n",
        "\n",
        "(4) attention (Attention)\n",
        "파라미터 수=(입력 차원+출력 차원)×출력 차원×3\n",
        "입력 차원 64\n",
        "출력차원 128\n",
        "\n",
        "\n",
        "'''\n"
      ]
    },
    {
      "cell_type": "code",
      "execution_count": 114,
      "metadata": {
        "colab": {
          "base_uri": "https://localhost:8080/"
        },
        "id": "qoPeBKiI_OT_",
        "outputId": "1ae1cc50-203e-4e2d-8e3e-4030c697007f"
      },
      "outputs": [
        {
          "name": "stdout",
          "output_type": "stream",
          "text": [
            "Epoch 1/200\n",
            "625/625 [==============================] - 77s 119ms/step - loss: 0.3739 - accuracy: 0.8266 - val_loss: 0.3047 - val_accuracy: 0.8776\n",
            "Epoch 2/200\n",
            "625/625 [==============================] - 42s 67ms/step - loss: 0.2175 - accuracy: 0.9139 - val_loss: 0.2739 - val_accuracy: 0.8847\n",
            "Epoch 3/200\n",
            "625/625 [==============================] - 36s 58ms/step - loss: 0.1613 - accuracy: 0.9378 - val_loss: 0.2913 - val_accuracy: 0.8795\n",
            "Epoch 4/200\n",
            "625/625 [==============================] - 29s 47ms/step - loss: 0.1144 - accuracy: 0.9558 - val_loss: 0.3381 - val_accuracy: 0.8854\n",
            "Epoch 5/200\n",
            "625/625 [==============================] - 26s 41ms/step - loss: 0.0828 - accuracy: 0.9692 - val_loss: 0.3727 - val_accuracy: 0.8774\n",
            "Epoch 6/200\n",
            "625/625 [==============================] - 23s 36ms/step - loss: 0.0569 - accuracy: 0.9794 - val_loss: 0.5258 - val_accuracy: 0.8788\n",
            "Epoch 7/200\n",
            "625/625 [==============================] - 27s 42ms/step - loss: 0.0432 - accuracy: 0.9843 - val_loss: 0.5505 - val_accuracy: 0.8760\n",
            "782/782 [==============================] - 8s 10ms/step - loss: 0.5505 - accuracy: 0.8760\n",
            "\n",
            " 테스트 정확도: 0.8760\n"
          ]
        }
      ],
      "source": [
        "# 모델 실행 옵션 설정\n",
        "model.compile(loss='binary_crossentropy', optimizer='adam', metrics=['accuracy'])\n",
        "# 조기종료 옵션 설정\n",
        "early_stopping_callback = EarlyStopping(monitor='val_loss', patience=5)\n",
        "# 모델 실행\n",
        "history = model.fit(x_train,y_train, batch_size=40, epochs=200, validation_data=(x_test, y_test),\n",
        "          callbacks=[early_stopping_callback])\n",
        "#테스트 정확도 출력\n",
        "print(\"\\n 테스트 정확도: %.4f\" % (model.evaluate(x_test, y_test)[1]))"
      ]
    },
    {
      "cell_type": "code",
      "execution_count": 115,
      "metadata": {
        "colab": {
          "base_uri": "https://localhost:8080/",
          "height": 449
        },
        "id": "gyDs4-3S_RtF",
        "outputId": "f838104c-74c7-42c2-92fa-4f30b738e0a3"
      },
      "outputs": [
        {
          "data": {
            "image/png": "[encoded data removed]",
            "text/plain": [
              "<Figure size 640x480 with 1 Axes>"
            ]
          },
          "metadata": {},
          "output_type": "display_data"
        }
      ],
      "source": [
        "# 데이터 시각화\n",
        "y_vloss = history.history['val_loss']\n",
        "y_loss = history.history['loss']\n",
        "# 그래프 표현\n",
        "x_len = np.arange(len(y_loss))\n",
        "plt.plot(x_len, y_vloss, marker='.', c='red', label='Testset_loss')\n",
        "plt.plot(x_len, y_loss, marker='.', c='blue', label='Trainset_loss')\n",
        "plt.legend(loc='best')\n",
        "plt.grid()\n",
        "plt.xlabel('epoch')\n",
        "plt.ylabel('loss')\n",
        "plt.show()"
      ]
    }
  ],
  "metadata": {
    "accelerator": "GPU",
    "colab": {
      "gpuType": "T4",
      "provenance": []
    },
    "kernelspec": {
      "display_name": "Python 3",
      "name": "python3"
    },
    "language_info": {
      "name": "python"
    }
  },
  "nbformat": 4,
  "nbformat_minor": 0
}
