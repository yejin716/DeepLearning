{
  "nbformat": 4,
  "nbformat_minor": 0,
  "metadata": {
    "colab": {
      "provenance": []
    },
    "kernelspec": {
      "name": "python3",
      "display_name": "Python 3"
    },
    "language_info": {
      "name": "python"
    }
  },
  "cells": [
    {
      "cell_type": "code",
      "execution_count": 1,
      "metadata": {
        "colab": {
          "base_uri": "https://localhost:8080/"
        },
        "id": "Xq3U7fRdM927",
        "outputId": "d77cc4be-7116-4f4a-a271-fbd0bea20a82"
      },
      "outputs": [
        {
          "output_type": "stream",
          "name": "stdout",
          "text": [
            "Cloning into 'data'...\n",
            "remote: Enumerating objects: 29, done.\u001b[K\n",
            "remote: Counting objects: 100% (29/29), done.\u001b[K\n",
            "remote: Compressing objects: 100% (26/26), done.\u001b[K\n",
            "remote: Total 29 (delta 6), reused 19 (delta 2), pack-reused 0\u001b[K\n",
            "Receiving objects: 100% (29/29), 467.72 KiB | 4.25 MiB/s, done.\n",
            "Resolving deltas: 100% (6/6), done.\n"
          ]
        }
      ],
      "source": [
        "from tensorflow.keras.models import Sequential\n",
        "from tensorflow.keras.layers import Dense\n",
        "\n",
        "import numpy as np\n",
        "\n",
        "!git clone https://github.com/taehojo/data.git"
      ]
    },
    {
      "cell_type": "code",
      "source": [
        "data = np.loadtxt('/content/data/ThoraricSurgery3.csv', delimiter=',')\n",
        "data[10]"
      ],
      "metadata": {
        "colab": {
          "base_uri": "https://localhost:8080/"
        },
        "id": "43ElkHd9S1RH",
        "outputId": "5dcaa259-7256-44c8-afca-60b53a62899b"
      },
      "execution_count": 4,
      "outputs": [
        {
          "output_type": "execute_result",
          "data": {
            "text/plain": [
              "array([ 2.  ,  2.56,  2.32,  0.  ,  0.  ,  1.  ,  0.  ,  1.  ,  0.  ,\n",
              "        1.  ,  0.  ,  0.  ,  0.  ,  0.  ,  0.  , 60.  ,  0.  ])"
            ]
          },
          "metadata": {},
          "execution_count": 4
        }
      ]
    },
    {
      "cell_type": "code",
      "source": [
        "#독립변수 x 종속변수 y\n",
        "x = data[:,:-1] #환자의 진찰 기록\n",
        "y = data[:, -1] # 사망/생존여부"
      ],
      "metadata": {
        "id": "_L2tyyygS__I"
      },
      "execution_count": 5,
      "outputs": []
    },
    {
      "cell_type": "code",
      "source": [
        "#딥러닝 모델 구조 결정\n",
        "\n",
        "model = Sequential()\n",
        "\n",
        "#은닉층 / 반드시 input_dim(입력값) 포함\n",
        "model.add(Dense(30, input_dim=16, activation='relu'))\n",
        "\n",
        "#출력층 / 이진 분류 sigmoid (0/1)\n",
        "model.add(Dense(1, activation='sigmoid'))\n",
        "\n",
        "#모델 실행\n",
        "model.compile(loss='binary_crossentropy', optimizer='adam', metrics=['accuracy'])\n",
        "history = model.fit(x, y, epochs=5, batch_size=16)"
      ],
      "metadata": {
        "colab": {
          "base_uri": "https://localhost:8080/"
        },
        "id": "ngzwXR0XTQnQ",
        "outputId": "2599a0f3-5c5a-45d0-f34f-15ab4ed08c86"
      },
      "execution_count": 7,
      "outputs": [
        {
          "output_type": "stream",
          "name": "stdout",
          "text": [
            "Epoch 1/5\n",
            "30/30 [==============================] - 1s 2ms/step - loss: 15.4066 - accuracy: 0.1574\n",
            "Epoch 2/5\n",
            "30/30 [==============================] - 0s 2ms/step - loss: 5.0173 - accuracy: 0.1872\n",
            "Epoch 3/5\n",
            "30/30 [==============================] - 0s 2ms/step - loss: 0.5707 - accuracy: 0.8213\n",
            "Epoch 4/5\n",
            "30/30 [==============================] - 0s 3ms/step - loss: 0.5187 - accuracy: 0.8511\n",
            "Epoch 5/5\n",
            "30/30 [==============================] - 0s 2ms/step - loss: 0.4876 - accuracy: 0.8511\n"
          ]
        }
      ]
    }
  ]
}